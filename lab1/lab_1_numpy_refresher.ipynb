{
 "cells": [
  {
   "cell_type": "markdown",
   "metadata": {
    "id": "HcpcL4LxGqaJ"
   },
   "source": [
    "## Numpy Refresher"
   ]
  },
  {
   "cell_type": "markdown",
   "metadata": {
    "id": "ignb_B7eGwX4"
   },
   "source": [
    "If you are new to `numpy`, first go through the following [tutorial](https://numpy.org/devdocs/user/quickstart.html). \n",
    "\n",
    "Once completed, solve the exercises, below. If you feel confident with `numpy`, you can skip these exercises."
   ]
  },
  {
   "cell_type": "markdown",
   "metadata": {},
   "source": [
    "### Exercise 1: Importing NumPy\n",
    "\n",
    "**Task**: Import the numpy library and give it the alias \"np\".\n",
    "\n",
    "**Solution**:"
   ]
  },
  {
   "cell_type": "code",
   "execution_count": 1,
   "metadata": {},
   "outputs": [],
   "source": [
    "import numpy as np"
   ]
  },
  {
   "cell_type": "markdown",
   "metadata": {},
   "source": [
    "### Exercise 2: Creating Arrays\n",
    "\n",
    "**Task**: Create a numpy array of integers from 1 to 10.\n",
    "\n",
    "**Solution**:"
   ]
  },
  {
   "cell_type": "code",
   "execution_count": 2,
   "metadata": {},
   "outputs": [
    {
     "name": "stdout",
     "output_type": "stream",
     "text": [
      "[ 1  2  3  4  5  6  7  8  9 10]\n"
     ]
    }
   ],
   "source": [
    "arr = np.array([1, 2, 3, 4, 5, 6, 7, 8, 9, 10])\n",
    "print(arr)"
   ]
  },
  {
   "cell_type": "markdown",
   "metadata": {},
   "source": [
    "### Exercise 3: Reshaping Arrays\n",
    "\n",
    "**Task**: Convert the previously created array into a 2x5 matrix.\n",
    "\n",
    "**Solution**:"
   ]
  },
  {
   "cell_type": "code",
   "execution_count": 3,
   "metadata": {},
   "outputs": [
    {
     "name": "stdout",
     "output_type": "stream",
     "text": [
      "[[ 1  2  3  4  5]\n",
      " [ 6  7  8  9 10]]\n"
     ]
    }
   ],
   "source": [
    "matrix = arr.reshape(2, 5)\n",
    "print(matrix)"
   ]
  },
  {
   "cell_type": "markdown",
   "metadata": {},
   "source": [
    "### Exercise 4: Basic Array Operations\n",
    "\n",
    "**Task**: Compute the sum, mean, and standard deviation of the elements in the matrix.\n",
    "\n",
    "**Solution**:"
   ]
  },
  {
   "cell_type": "code",
   "execution_count": 4,
   "metadata": {},
   "outputs": [
    {
     "name": "stdout",
     "output_type": "stream",
     "text": [
      "Sum: 55 Mean: 5.5 Standard Deviation: 2.8722813232690143\n"
     ]
    }
   ],
   "source": [
    "sum_val = np.sum(matrix)\n",
    "mean_val = np.mean(matrix)\n",
    "std_dev = np.std(matrix)\n",
    "print(\"Sum:\", sum_val, \"Mean:\", mean_val, \"Standard Deviation:\", std_dev)"
   ]
  },
  {
   "cell_type": "markdown",
   "metadata": {},
   "source": [
    "### Exercise 5: Array Indexing\n",
    "\n",
    "**Task**: From the matrix, extract the value at the 2nd row and 3rd column.\n",
    "\n",
    "**Solution**:"
   ]
  },
  {
   "cell_type": "code",
   "execution_count": 6,
   "metadata": {},
   "outputs": [
    {
     "name": "stdout",
     "output_type": "stream",
     "text": [
      "8\n"
     ]
    }
   ],
   "source": [
    "value = matrix[1, 2]\n",
    "print(value)"
   ]
  },
  {
   "cell_type": "markdown",
   "metadata": {},
   "source": [
    "### Exercise 6: Slicing\n",
    "\n",
    "**Task**: Extract the first row from the matrix.\n",
    "\n",
    "**Solution**:"
   ]
  },
  {
   "cell_type": "code",
   "execution_count": 5,
   "metadata": {},
   "outputs": [
    {
     "name": "stdout",
     "output_type": "stream",
     "text": [
      "[1 2 3 4 5]\n"
     ]
    }
   ],
   "source": [
    "first_row = matrix[0, :]\n",
    "print(first_row)"
   ]
  },
  {
   "cell_type": "markdown",
   "metadata": {},
   "source": [
    "### Exercise 7: Element-wise Operations\n",
    "\n",
    "**Task**: Multiply every element of the matrix by 2.\n",
    "\n",
    "**Solution**:"
   ]
  },
  {
   "cell_type": "code",
   "execution_count": 6,
   "metadata": {},
   "outputs": [
    {
     "name": "stdout",
     "output_type": "stream",
     "text": [
      "[[ 2  4  6  8 10]\n",
      " [12 14 16 18 20]]\n"
     ]
    }
   ],
   "source": [
    "doubled_matrix = matrix * 2\n",
    "print(doubled_matrix)"
   ]
  },
  {
   "cell_type": "markdown",
   "metadata": {},
   "source": [
    "\n",
    "### Exercise 8: Matrix Multiplication\n",
    "\n",
    "**Task**: Multiply the matrix with its transpose.\n",
    "\n",
    "**Solution**:"
   ]
  },
  {
   "cell_type": "code",
   "execution_count": 7,
   "metadata": {},
   "outputs": [
    {
     "name": "stdout",
     "output_type": "stream",
     "text": [
      "[[ 55 130]\n",
      " [130 330]]\n"
     ]
    }
   ],
   "source": [
    "result = np.dot(matrix, matrix.T)\n",
    "print(result)"
   ]
  },
  {
   "cell_type": "markdown",
   "metadata": {},
   "source": [
    "### Exercise 9: Boolean Indexing\n",
    "\n",
    "**Task**: From the array created in Exercise 2, extract all even numbers using boolean indexing.\n",
    "\n",
    "**Solution**:"
   ]
  },
  {
   "cell_type": "code",
   "execution_count": 8,
   "metadata": {},
   "outputs": [
    {
     "name": "stdout",
     "output_type": "stream",
     "text": [
      "[ 2  4  6  8 10]\n"
     ]
    }
   ],
   "source": [
    "even_numbers = arr[arr % 2 == 0]\n",
    "print(even_numbers)"
   ]
  },
  {
   "cell_type": "markdown",
   "metadata": {},
   "source": [
    "### Exercise 10: Zero and Ones\n",
    "\n",
    "**Task**: Create a 3x3 matrix full of zeros and a 4x4 matrix full of ones.\n",
    "\n",
    "**Solution**:"
   ]
  },
  {
   "cell_type": "code",
   "execution_count": 9,
   "metadata": {},
   "outputs": [
    {
     "name": "stdout",
     "output_type": "stream",
     "text": [
      "[[0. 0. 0.]\n",
      " [0. 0. 0.]\n",
      " [0. 0. 0.]]\n",
      "[[1. 1. 1. 1.]\n",
      " [1. 1. 1. 1.]\n",
      " [1. 1. 1. 1.]\n",
      " [1. 1. 1. 1.]]\n"
     ]
    }
   ],
   "source": [
    "zeros_matrix = np.zeros((3, 3))\n",
    "ones_matrix = np.ones((4, 4))\n",
    "print(zeros_matrix)\n",
    "print(ones_matrix)"
   ]
  },
  {
   "cell_type": "markdown",
   "metadata": {},
   "source": [
    "### Exercise 11: Range and Reshape\n",
    "\n",
    "**Task**: Create an array of numbers from 20 to 40 and reshape it into a 3x7 matrix.\n",
    "\n",
    "**Solution**:"
   ]
  },
  {
   "cell_type": "code",
   "execution_count": 10,
   "metadata": {},
   "outputs": [
    {
     "name": "stdout",
     "output_type": "stream",
     "text": [
      "[[20 21 22 23 24 25 26]\n",
      " [27 28 29 30 31 32 33]\n",
      " [34 35 36 37 38 39 40]]\n"
     ]
    }
   ],
   "source": [
    "range_arr = np.arange(20, 41).reshape(3, 7)\n",
    "print(range_arr)"
   ]
  },
  {
   "cell_type": "markdown",
   "metadata": {},
   "source": [
    "### Exercise 12: Random Numbers\n",
    "\n",
    "**Task**: Generate a 5x2 matrix of random numbers between 0 and 1.\n",
    "\n",
    "**Solution**:"
   ]
  },
  {
   "cell_type": "code",
   "execution_count": 11,
   "metadata": {},
   "outputs": [
    {
     "name": "stdout",
     "output_type": "stream",
     "text": [
      "[[5.30656577e-01 2.60006481e-01]\n",
      " [6.33300897e-01 7.66553525e-01]\n",
      " [6.10849680e-01 2.24133484e-01]\n",
      " [8.04698950e-01 4.65583451e-04]\n",
      " [1.52822235e-01 2.01695284e-01]]\n"
     ]
    }
   ],
   "source": [
    "random_matrix = np.random.rand(5, 2)\n",
    "print(random_matrix)"
   ]
  },
  {
   "cell_type": "markdown",
   "metadata": {},
   "source": [
    "### Exercise 13: Max and Min\n",
    "\n",
    "**Task**: Find the maximum and minimum value of the matrix created in Exercise 12.\n",
    "\n",
    "**Solution**:"
   ]
  },
  {
   "cell_type": "code",
   "execution_count": 12,
   "metadata": {},
   "outputs": [
    {
     "name": "stdout",
     "output_type": "stream",
     "text": [
      "Max: 0.8046989496110076 Min: 0.00046558345131653134\n"
     ]
    }
   ],
   "source": [
    "max_val = np.max(random_matrix)\n",
    "min_val = np.min(random_matrix)\n",
    "print(\"Max:\", max_val, \"Min:\", min_val)"
   ]
  },
  {
   "cell_type": "markdown",
   "metadata": {},
   "source": [
    "### Exercise 14: Broadcasting\n",
    "\n",
    "**Task**: Add the matrix `[1, 2]` to each row of the matrix created in Exercise 12.\n",
    "\n",
    "**Solution**:"
   ]
  },
  {
   "cell_type": "code",
   "execution_count": 13,
   "metadata": {},
   "outputs": [
    {
     "name": "stdout",
     "output_type": "stream",
     "text": [
      "[[1.53065658 2.26000648]\n",
      " [1.6333009  2.76655353]\n",
      " [1.61084968 2.22413348]\n",
      " [1.80469895 2.00046558]\n",
      " [1.15282224 2.20169528]]\n"
     ]
    }
   ],
   "source": [
    "broadcasted_matrix = random_matrix + np.array([1, 2])\n",
    "print(broadcasted_matrix)"
   ]
  },
  {
   "cell_type": "markdown",
   "metadata": {},
   "source": [
    "\n",
    "### Exercise 15: Linear Spaces\n",
    "\n",
    "**Task**: Create an array of 50 evenly spaced points between 0 and 10.\n",
    "\n",
    "**Solution**:"
   ]
  },
  {
   "cell_type": "code",
   "execution_count": 14,
   "metadata": {},
   "outputs": [
    {
     "name": "stdout",
     "output_type": "stream",
     "text": [
      "[ 0.          0.20408163  0.40816327  0.6122449   0.81632653  1.02040816\n",
      "  1.2244898   1.42857143  1.63265306  1.83673469  2.04081633  2.24489796\n",
      "  2.44897959  2.65306122  2.85714286  3.06122449  3.26530612  3.46938776\n",
      "  3.67346939  3.87755102  4.08163265  4.28571429  4.48979592  4.69387755\n",
      "  4.89795918  5.10204082  5.30612245  5.51020408  5.71428571  5.91836735\n",
      "  6.12244898  6.32653061  6.53061224  6.73469388  6.93877551  7.14285714\n",
      "  7.34693878  7.55102041  7.75510204  7.95918367  8.16326531  8.36734694\n",
      "  8.57142857  8.7755102   8.97959184  9.18367347  9.3877551   9.59183673\n",
      "  9.79591837 10.        ]\n"
     ]
    }
   ],
   "source": [
    "lin_space = np.linspace(0, 10, 50)\n",
    "print(lin_space)"
   ]
  },
  {
   "cell_type": "markdown",
   "metadata": {},
   "source": [
    "### Exercise 16: Element-wise Comparison\n",
    "\n",
    "**Task**: Compare the matrix created in Exercise 12 with a threshold of 0.5. If an element is greater than 0.5, it should be labeled as `True`, otherwise `False`.\n",
    "\n",
    "**Solution**:\n"
   ]
  },
  {
   "cell_type": "code",
   "execution_count": 15,
   "metadata": {},
   "outputs": [
    {
     "name": "stdout",
     "output_type": "stream",
     "text": [
      "[[ True False]\n",
      " [ True  True]\n",
      " [ True False]\n",
      " [ True False]\n",
      " [False False]]\n"
     ]
    }
   ],
   "source": [
    "compared_matrix = random_matrix > 0.5\n",
    "print(compared_matrix)"
   ]
  },
  {
   "cell_type": "markdown",
   "metadata": {},
   "source": [
    "### Exercise 17: Dot Product\n",
    "\n",
    "**Task**: Given two vectors `A = [2, 3]` and `B = [4, 5]`, compute their dot product.\n",
    "\n",
    "**Solution**:"
   ]
  },
  {
   "cell_type": "code",
   "execution_count": 17,
   "metadata": {},
   "outputs": [
    {
     "name": "stdout",
     "output_type": "stream",
     "text": [
      "23\n"
     ]
    }
   ],
   "source": [
    "A = np.array([2, 3])\n",
    "B = np.array([4, 5])\n",
    "dot_product = np.dot(A, B)\n",
    "print(dot_product)"
   ]
  },
  {
   "cell_type": "markdown",
   "metadata": {},
   "source": [
    "### Exercise 18: Matrix-vector Multiplication\n",
    "\n",
    "**Task**: Multiply matrix `M = [[1, 2], [3, 4]]` with vector `V = [5, 6]`.\n",
    "\n",
    "**Solution**:"
   ]
  },
  {
   "cell_type": "code",
   "execution_count": 18,
   "metadata": {},
   "outputs": [
    {
     "name": "stdout",
     "output_type": "stream",
     "text": [
      "[17 39]\n"
     ]
    }
   ],
   "source": [
    "M = np.array([[1, 2], [3, 4]])\n",
    "V = np.array([5, 6])\n",
    "result = np.dot(M, V)\n",
    "print(result)"
   ]
  },
  {
   "cell_type": "markdown",
   "metadata": {},
   "source": [
    "### Exercise 19: Matrix-matrix Multiplication\n",
    "\n",
    "**Task**: Multiply matrix `X = [[1, 2], [3, 4]]` with matrix `Y = [[2, 0], [1, 3]]`.\n",
    "\n",
    "**Solution**:"
   ]
  },
  {
   "cell_type": "code",
   "execution_count": 19,
   "metadata": {},
   "outputs": [
    {
     "name": "stdout",
     "output_type": "stream",
     "text": [
      "[[ 4  6]\n",
      " [10 12]]\n"
     ]
    }
   ],
   "source": [
    "X = np.array([[1, 2], [3, 4]])\n",
    "Y = np.array([[2, 0], [1, 3]])\n",
    "result = np.dot(X, Y)\n",
    "print(result)"
   ]
  },
  {
   "cell_type": "markdown",
   "metadata": {},
   "source": [
    "### Exercise 20: Outer Product\n",
    "\n",
    "**Task**: Compute the outer product of vectors `A = [2, 3]` and `B = [4, 5]`.\n",
    "\n",
    "**Solution**:"
   ]
  },
  {
   "cell_type": "code",
   "execution_count": 20,
   "metadata": {},
   "outputs": [
    {
     "name": "stdout",
     "output_type": "stream",
     "text": [
      "[[ 8 10]\n",
      " [12 15]]\n"
     ]
    }
   ],
   "source": [
    "outer_product = np.outer(A, B)\n",
    "print(outer_product)"
   ]
  },
  {
   "cell_type": "markdown",
   "metadata": {},
   "source": [
    "### Exercise 21: Matrix-vector Product Using @ Operator\n",
    "\n",
    "**Task**: Multiply matrix `M = [[1, 2], [3, 4]]` with vector `V = [5, 6]` using the `@` operator.\n",
    "\n",
    "**Solution**:"
   ]
  },
  {
   "cell_type": "code",
   "execution_count": 21,
   "metadata": {},
   "outputs": [
    {
     "name": "stdout",
     "output_type": "stream",
     "text": [
      "[17 39]\n"
     ]
    }
   ],
   "source": [
    "result = M @ V\n",
    "print(result)"
   ]
  },
  {
   "cell_type": "markdown",
   "metadata": {},
   "source": [
    "\n",
    "### Exercise 22: Kronecker Product\n",
    "\n",
    "**Task**: Compute the Kronecker product of matrices `X = [[1, 2], [3, 4]]` and `Y = [[0, 5], [6, 7]]`.\n",
    "\n",
    "**Solution**:"
   ]
  },
  {
   "cell_type": "code",
   "execution_count": 22,
   "metadata": {},
   "outputs": [
    {
     "name": "stdout",
     "output_type": "stream",
     "text": [
      "[[ 2  0  4  0]\n",
      " [ 1  3  2  6]\n",
      " [ 6  0  8  0]\n",
      " [ 3  9  4 12]]\n"
     ]
    }
   ],
   "source": [
    "kronecker_product = np.kron(X, Y)\n",
    "print(kronecker_product)"
   ]
  },
  {
   "cell_type": "markdown",
   "metadata": {},
   "source": [
    "### Exercise 23: Element-wise Multiplication\n",
    "\n",
    "**Task**: Perform an element-wise multiplication of matrices `A = [[2, 3], [4, 5]]` and `B = [[1, 0], [0, 1]]`.\n",
    "\n",
    "**Solution**:"
   ]
  },
  {
   "cell_type": "code",
   "execution_count": 23,
   "metadata": {},
   "outputs": [
    {
     "name": "stdout",
     "output_type": "stream",
     "text": [
      "[[2 0]\n",
      " [0 5]]\n"
     ]
    }
   ],
   "source": [
    "A = np.array([[2, 3], [4, 5]])\n",
    "B = np.array([[1, 0], [0, 1]])\n",
    "elementwise_product = A * B\n",
    "print(elementwise_product)"
   ]
  },
  {
   "cell_type": "markdown",
   "metadata": {},
   "source": [
    "### Exercise 24: Cross Product\n",
    "\n",
    "**Task**: Compute the cross product of vectors `P = [1, 2, 3]` and `Q = [4, 5, 6]`.\n",
    "\n",
    "**Solution**:"
   ]
  },
  {
   "cell_type": "code",
   "execution_count": 24,
   "metadata": {},
   "outputs": [
    {
     "name": "stdout",
     "output_type": "stream",
     "text": [
      "[-3  6 -3]\n"
     ]
    }
   ],
   "source": [
    "P = np.array([1, 2, 3])\n",
    "Q = np.array([4, 5, 6])\n",
    "cross_product = np.cross(P, Q)\n",
    "print(cross_product)"
   ]
  }
 ],
 "metadata": {
  "colab": {
   "provenance": []
  },
  "kernelspec": {
   "display_name": "Python 3",
   "language": "python",
   "name": "python3"
  },
  "language_info": {
   "codemirror_mode": {
    "name": "ipython",
    "version": 3
   },
   "file_extension": ".py",
   "mimetype": "text/x-python",
   "name": "python",
   "nbconvert_exporter": "python",
   "pygments_lexer": "ipython3",
   "version": "3.8.10"
  }
 },
 "nbformat": 4,
 "nbformat_minor": 1
}
